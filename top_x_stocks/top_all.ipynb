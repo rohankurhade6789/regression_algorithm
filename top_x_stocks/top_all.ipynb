{
 "cells": [
  {
   "cell_type": "code",
   "execution_count": 8,
   "metadata": {},
   "outputs": [],
   "source": [
    "import pandas as pd\n",
    "# import matplotlib.pyplot as plt\n",
    "import numpy as np\n",
    "import os\n",
    "import yaml"
   ]
  },
  {
   "cell_type": "code",
   "execution_count": 9,
   "metadata": {},
   "outputs": [],
   "source": [
    "top_all = pd.read_csv('./top_all.csv')\n",
    "top_all.to_pickle('./top_all.pkl')"
   ]
  },
  {
   "cell_type": "code",
   "execution_count": 10,
   "metadata": {},
   "outputs": [],
   "source": [
    "top_all_dict = {value: { 'symbol': value } for value in top_all['stock']}\n",
    "\n",
    "with open('../sample.yaml', 'r') as yaml_file:\n",
    "    new_yaml = yaml.load(yaml_file, Loader=yaml.SafeLoader)\n",
    "    new_yaml.update(top_all_dict)\n",
    "    \n",
    "with open('../sample.yaml', 'w') as yaml_file:\n",
    "    yaml.safe_dump(new_yaml, yaml_file, sort_keys=False)"
   ]
  },
  {
   "cell_type": "code",
   "execution_count": 11,
   "metadata": {},
   "outputs": [
    {
     "data": {
      "text/html": [
       "<div>\n",
       "<style scoped>\n",
       "    .dataframe tbody tr th:only-of-type {\n",
       "        vertical-align: middle;\n",
       "    }\n",
       "\n",
       "    .dataframe tbody tr th {\n",
       "        vertical-align: top;\n",
       "    }\n",
       "\n",
       "    .dataframe thead th {\n",
       "        text-align: right;\n",
       "    }\n",
       "</style>\n",
       "<table border=\"1\" class=\"dataframe\">\n",
       "  <thead>\n",
       "    <tr style=\"text-align: right;\">\n",
       "      <th></th>\n",
       "      <th>stock</th>\n",
       "      <th>buy_threshold</th>\n",
       "      <th>sell_threshold</th>\n",
       "      <th>lookback_period</th>\n",
       "    </tr>\n",
       "  </thead>\n",
       "  <tbody>\n",
       "    <tr>\n",
       "      <th>0</th>\n",
       "      <td>CHOLAFIN</td>\n",
       "      <td>0.6</td>\n",
       "      <td>-0.8</td>\n",
       "      <td>8.0</td>\n",
       "    </tr>\n",
       "    <tr>\n",
       "      <th>1</th>\n",
       "      <td>INDUSINDB</td>\n",
       "      <td>0.3</td>\n",
       "      <td>-0.7</td>\n",
       "      <td>10.0</td>\n",
       "    </tr>\n",
       "    <tr>\n",
       "      <th>2</th>\n",
       "      <td>HINDPETRO</td>\n",
       "      <td>0.2</td>\n",
       "      <td>-0.3</td>\n",
       "      <td>5.0</td>\n",
       "    </tr>\n",
       "    <tr>\n",
       "      <th>3</th>\n",
       "      <td>JUBLFOOD</td>\n",
       "      <td>0.6</td>\n",
       "      <td>-0.6</td>\n",
       "      <td>6.0</td>\n",
       "    </tr>\n",
       "    <tr>\n",
       "      <th>4</th>\n",
       "      <td>ASHOKLEY</td>\n",
       "      <td>0.6</td>\n",
       "      <td>-0.2</td>\n",
       "      <td>5.0</td>\n",
       "    </tr>\n",
       "    <tr>\n",
       "      <th>...</th>\n",
       "      <td>...</td>\n",
       "      <td>...</td>\n",
       "      <td>...</td>\n",
       "      <td>...</td>\n",
       "    </tr>\n",
       "    <tr>\n",
       "      <th>104</th>\n",
       "      <td>ESCORTS</td>\n",
       "      <td>0.3</td>\n",
       "      <td>-0.8</td>\n",
       "      <td>14.0</td>\n",
       "    </tr>\n",
       "    <tr>\n",
       "      <th>105</th>\n",
       "      <td>NATIONALU</td>\n",
       "      <td>0.3</td>\n",
       "      <td>-0.8</td>\n",
       "      <td>6.0</td>\n",
       "    </tr>\n",
       "    <tr>\n",
       "      <th>106</th>\n",
       "      <td>IOC</td>\n",
       "      <td>0.5</td>\n",
       "      <td>-0.2</td>\n",
       "      <td>5.0</td>\n",
       "    </tr>\n",
       "    <tr>\n",
       "      <th>107</th>\n",
       "      <td>BATAINDIA</td>\n",
       "      <td>0.8</td>\n",
       "      <td>-0.8</td>\n",
       "      <td>9.0</td>\n",
       "    </tr>\n",
       "    <tr>\n",
       "      <th>108</th>\n",
       "      <td>LT</td>\n",
       "      <td>0.8</td>\n",
       "      <td>-0.3</td>\n",
       "      <td>12.0</td>\n",
       "    </tr>\n",
       "  </tbody>\n",
       "</table>\n",
       "<p>109 rows × 4 columns</p>\n",
       "</div>"
      ],
      "text/plain": [
       "         stock  buy_threshold  sell_threshold  lookback_period\n",
       "0     CHOLAFIN            0.6            -0.8              8.0\n",
       "1    INDUSINDB            0.3            -0.7             10.0\n",
       "2    HINDPETRO            0.2            -0.3              5.0\n",
       "3     JUBLFOOD            0.6            -0.6              6.0\n",
       "4     ASHOKLEY            0.6            -0.2              5.0\n",
       "..         ...            ...             ...              ...\n",
       "104    ESCORTS            0.3            -0.8             14.0\n",
       "105  NATIONALU            0.3            -0.8              6.0\n",
       "106        IOC            0.5            -0.2              5.0\n",
       "107  BATAINDIA            0.8            -0.8              9.0\n",
       "108         LT            0.8            -0.3             12.0\n",
       "\n",
       "[109 rows x 4 columns]"
      ]
     },
     "execution_count": 11,
     "metadata": {},
     "output_type": "execute_result"
    }
   ],
   "source": [
    "parameters = pd.read_pickle('top_all.pkl')\n",
    "# parameters.set_index(\"stock\", inplace=True)\n",
    "parameters"
   ]
  },
  {
   "cell_type": "code",
   "execution_count": 12,
   "metadata": {},
   "outputs": [],
   "source": [
    "config = parameters.to_dict(orient='index')"
   ]
  },
  {
   "cell_type": "code",
   "execution_count": 13,
   "metadata": {},
   "outputs": [
    {
     "data": {
      "text/plain": [
       "{'stock': 'CHOLAFIN',\n",
       " 'buy_threshold': 0.6,\n",
       " 'sell_threshold': -0.8,\n",
       " 'lookback_period': 8.0}"
      ]
     },
     "execution_count": 13,
     "metadata": {},
     "output_type": "execute_result"
    }
   ],
   "source": [
    "config[0]"
   ]
  }
 ],
 "metadata": {
  "kernelspec": {
   "display_name": "Python 3.9.7 ('base')",
   "language": "python",
   "name": "python3"
  },
  "language_info": {
   "codemirror_mode": {
    "name": "ipython",
    "version": 3
   },
   "file_extension": ".py",
   "mimetype": "text/x-python",
   "name": "python",
   "nbconvert_exporter": "python",
   "pygments_lexer": "ipython3",
   "version": "3.9.7"
  },
  "orig_nbformat": 4,
  "vscode": {
   "interpreter": {
    "hash": "668639ee5e0b6b60edf9bd86e4028f528ab375708257679c0335b842cd428d7b"
   }
  }
 },
 "nbformat": 4,
 "nbformat_minor": 2
}
